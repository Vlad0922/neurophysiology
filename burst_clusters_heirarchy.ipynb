{
 "cells": [
  {
   "cell_type": "code",
   "execution_count": 60,
   "metadata": {
    "collapsed": true
   },
   "outputs": [],
   "source": [
    "import sys\n",
    "import os\n",
    "\n",
    "import neo.io\n",
    "\n",
    "import numpy as np\n",
    "from scipy.cluster.hierarchy import dendrogram, linkage, fcluster\n",
    "\n",
    "import scipy as sp\n",
    "\n",
    "import matplotlib.pyplot as plt\n",
    "import seaborn as sns\n",
    "import matplotlib.gridspec as gridspec\n",
    "%matplotlib inline\n",
    "\n",
    "import tqdm\n",
    "\n",
    "from collections import Counter\n",
    "\n",
    "import pandas as pd\n",
    "\n",
    "from statistics import calc_cv, calc_burst_by_mean, calc_local_variance\n",
    "\n",
    "from sklearn.metrics import silhouette_score\n",
    "\n",
    "from scipy.optimize import minimize\n",
    "from scipy.misc import factorial"
   ]
  },
  {
   "cell_type": "code",
   "execution_count": 2,
   "metadata": {
    "collapsed": true
   },
   "outputs": [],
   "source": [
    "def plot_spikes(spikes, ax=None, figsize=None):\n",
    "    if ax is None:\n",
    "        f, ax = plt.subplots(figsize=figsize)\n",
    "\n",
    "    for i in range(len(spikes)):\n",
    "        ax.plot([spikes[i], spikes[i]], [-1, 1], color='black', lw=0.2)\n",
    "    \n",
    "    ax.set_ylim([-5., 5.])"
   ]
  },
  {
   "cell_type": "code",
   "execution_count": 3,
   "metadata": {
    "collapsed": true
   },
   "outputs": [],
   "source": [
    "def read_spikes(dist_dir):\n",
    "    all_data = list()\n",
    "\n",
    "    for root, subdirs, files in os.walk(dist_dir):\n",
    "        for full_name, f_name in [(os.path.join(root, f_name), f_name) for f_name in files]:\n",
    "            patient = full_name.split(os.sep)[3]\n",
    "            ext = full_name[-3:].lower()\n",
    "\n",
    "            if ext == 'nex':\n",
    "                r = neo.io.NeuroExplorerIO(filename=full_name)\n",
    "                for blk in r.read(cascade=True, lazy=False):\n",
    "                    for seg in blk.segments:\n",
    "                        for st in seg.spiketrains:\n",
    "                            name_lower = str(st.name.lower())\n",
    "                            if name_lower.startswith('fon'):\n",
    "                                spikes = np.array(st)\n",
    "                                for interval in seg.epochs:\n",
    "                                    int_name = interval.annotations['channel_name'].lower()\n",
    "                                    if name_lower.startswith(int_name):\n",
    "                                        for s, d in zip(interval.times, interval.durations):\n",
    "                                            e = s + d\n",
    "                                            spikes_filtered = spikes[np.where((spikes >= s) & (spikes <= e))]\n",
    "                                            if len(spikes_filtered) > 100 and (spikes_filtered[~0] - spikes_filtered[0]) > 5.:\n",
    "                                                isi = spikes_filtered[1:] - spikes_filtered[:-1]\n",
    "                                                \n",
    "                                                df = dict()                                              \n",
    "                                                df['st'] = spikes_filtered\n",
    "                                                df['cv'] = calc_cv(isi)\n",
    "                                                df['AI'] = calc_burst_by_mean(isi)\n",
    "                                                df['patient'] = patient\n",
    "                                                df['data_name'] = st.name\n",
    "                                                df['doc_name'] = f_name\n",
    "                                                df['interval_name'] = int_name\n",
    "                                                df['lv'] = calc_local_variance(isi)\n",
    "\n",
    "                                                all_data.append(df)\n",
    "\n",
    "                            elif name_lower.startswith('allfile') or name_lower.startswith('nw'):\n",
    "                                spikes = np.array(st)\n",
    "                                if len(spikes) > 50 and (spikes[~0] - spikes[0] > 5.):  \n",
    "                                    isi = spikes[1:] - spikes[:-1]\n",
    "                                    \n",
    "                                    df = dict()\n",
    "                                    df['st'] = spikes\n",
    "                                    df['cv'] = calc_cv(isi)\n",
    "                                    df['AI'] = calc_burst_by_mean(isi)\n",
    "                                    df['patient'] = patient\n",
    "                                    df['data_name'] = st.name\n",
    "                                    df['doc_name'] = f_name\n",
    "                                    df['interval_name'] = 'allfile'\n",
    "                                    df['lv'] = calc_local_variance(isi)\n",
    "\n",
    "                                    all_data.append(df)\n",
    "                                    \n",
    "    return all_data\n"
   ]
  },
  {
   "cell_type": "code",
   "execution_count": 4,
   "metadata": {
    "collapsed": true
   },
   "outputs": [],
   "source": [
    "# stat_data = pd.read_excel('awake.xls')"
   ]
  },
  {
   "cell_type": "code",
   "execution_count": 5,
   "metadata": {
    "collapsed": true
   },
   "outputs": [],
   "source": [
    "# fig = plt.figure(figsize=(15,10))\n",
    "# sc = plt.scatter(stat_data['cv'], stat_data['burst_mean'], c=stat_data['burst_spike_percent'])\n",
    "\n",
    "# cbar = fig.colorbar(sc, ticks=[-1, 0, 1])\n",
    "\n",
    "# plt.xlabel('cv')\n",
    "# plt.ylabel('AI')"
   ]
  },
  {
   "cell_type": "code",
   "execution_count": 6,
   "metadata": {
    "collapsed": true
   },
   "outputs": [],
   "source": [
    "dist_dir_a = 'C:\\\\projects\\\\neuro_data\\\\data_for_analyze\\\\awake'\n",
    "dist_dir_s = 'C:\\\\projects\\\\neuro_data\\\\data_for_analyze\\\\sleep'"
   ]
  },
  {
   "cell_type": "code",
   "execution_count": 7,
   "metadata": {
    "collapsed": true
   },
   "outputs": [],
   "source": [
    "data_a = read_spikes(dist_dir_a)\n",
    "data_s = read_spikes(dist_dir_s)"
   ]
  },
  {
   "cell_type": "code",
   "execution_count": 8,
   "metadata": {
    "collapsed": true
   },
   "outputs": [],
   "source": [
    "only_st = list()\n",
    "names = list()\n",
    "labels = list()\n",
    "cv_ai = list()\n",
    "\n",
    "for d in data_a:\n",
    "    if len(d['st']) > 100:\n",
    "        only_st.append(d['st'])\n",
    "        names.append('{};{};{}'.format(d['doc_name'], d['data_name'], d['interval_name']))\n",
    "    \n",
    "        labels.append(1)\n",
    "        cv_ai.append((d['cv'], d['AI'], d['lv']))\n",
    "#     if len(only_st) == 50:\n",
    "#         break\n",
    "        \n",
    "    \n",
    "for d in data_s:\n",
    "    if len(d['st']) > 100:\n",
    "        only_st.append(d['st'])\n",
    "        names.append('{};{};{}'.format(d['doc_name'], d['data_name'], d['interval_name']))\n",
    "    \n",
    "        labels.append(0)\n",
    "        cv_ai.append((d['cv'], d['AI'], d['lv']))\n",
    "#     if len(only_st) == 100:\n",
    "#         break"
   ]
  },
  {
   "cell_type": "code",
   "execution_count": 9,
   "metadata": {
    "collapsed": true
   },
   "outputs": [],
   "source": [
    "cv_ai = np.array(cv_ai)"
   ]
  },
  {
   "cell_type": "code",
   "execution_count": 10,
   "metadata": {
    "collapsed": true
   },
   "outputs": [],
   "source": [
    "# cv_ai = [stat_dict[n] for n in names]\n",
    "only_isi = [st[1:] - st[:-1] for st in only_st]\n",
    "logisi = [np.log(isi[np.nonzero(isi)]) for isi in only_isi]"
   ]
  },
  {
   "cell_type": "code",
   "execution_count": 11,
   "metadata": {},
   "outputs": [
    {
     "data": {
      "text/plain": [
       "(627, 627)"
      ]
     },
     "execution_count": 11,
     "metadata": {},
     "output_type": "execute_result"
    }
   ],
   "source": [
    "len(only_st), len(names)"
   ]
  },
  {
   "cell_type": "code",
   "execution_count": 12,
   "metadata": {
    "collapsed": true
   },
   "outputs": [],
   "source": [
    "def clever_split(arr, step):\n",
    "    res = list()\n",
    "    \n",
    "    idx = 0\n",
    "    for l in np.arange(0, arr[~0], step):\n",
    "        curr = list()\n",
    "        while(idx < len(arr) and arr[idx] < l + step):\n",
    "            curr.append(arr[idx])\n",
    "            idx += 1\n",
    "        \n",
    "        res.append(curr)\n",
    "    \n",
    "    return res"
   ]
  },
  {
   "cell_type": "code",
   "execution_count": 13,
   "metadata": {
    "collapsed": true
   },
   "outputs": [],
   "source": [
    "def boot_fit(x, dist, iters=100):\n",
    "    params = np.array([dist.fit(np.random.choice(x, size=len(x))) for _ in range(iters)])\n",
    "    return np.mean(params, axis=0)\n",
    "\n",
    "# def JSD(P, Q):\n",
    "#     _P = P / np.linalg.norm(P, ord=1)\n",
    "#     _Q = Q / np.linalg.norm(Q, ord=1)\n",
    "#     _M = 0.5 * (_P + _Q)\n",
    "#     return 0.5 * (sp.stats.entropy(_P, _M) + sp.stats.entropy(_Q, _M))\n",
    "\n",
    "def JSD(p, q, base=np.e):\n",
    "    '''\n",
    "        Implementation of pairwise `jsd` based on  \n",
    "        https://en.wikipedia.org/wiki/Jensen%E2%80%93Shannon_divergence\n",
    "    '''\n",
    "    p = np.asarray(p)\n",
    "    q = np.asarray(q)\n",
    "    m = 1./2*(p + q)\n",
    "    return sp.stats.entropy(p,m, base=base)/2. +  sp.stats.entropy(q, m, base=base)/2.\n",
    "\n",
    "def logisi_gamma_metric(x, y):\n",
    "    x_norm = x/np.max(x)\n",
    "    y_norm = y/np.max(y)\n",
    "    \n",
    "    a1,b1,s1 = sp.stats.gamma.fit(x)\n",
    "    a2,b2,s2 = sp.stats.gamma.fit(y)\n",
    "    \n",
    "    x_axis = np.arange(-10, 10, 0.001)\n",
    "    d1 = sp.stats.gamma.pdf(x_axis, a1, b1, s1)\n",
    "    d2 = sp.stats.gamma.pdf(x_axis, a2, b2, s2)\n",
    "    \n",
    "    return JSD(d1, d2)\n",
    "\n",
    "\n",
    "def get_sdh(st, norm = True):\n",
    "    isi = st[1:] - st[:-1]\n",
    "    splitted = clever_split(st, np.mean(isi))\n",
    "    counts = Counter([len(t) for t in splitted])\n",
    "        \n",
    "    res = np.zeros(max(counts.keys()) + 1)\n",
    "    \n",
    "    for idx, val in counts.items():\n",
    "        res[idx] = val\n",
    "    \n",
    "    if(norm):\n",
    "        res /= sum(res)\n",
    "    \n",
    "    return res    \n",
    "\n",
    "\n",
    "def pad_to_size(arr, sz, val):\n",
    "    res = np.full(sz, val, dtype=float)\n",
    "    res[:len(arr)] = arr\n",
    "    \n",
    "    return res\n",
    "\n",
    "\n",
    "def get_sdh_window(st, windows=5):\n",
    "    splits = np.array_split(st, windows)\n",
    "    sdh_lst = [get_sdh(spl) for spl in splits]\n",
    "    max_len = max([len(sdh) for sdh in sdh_lst])\n",
    "    \n",
    "    sdh_lst = [pad_to_size(sdh, max_len, 0.) for sdh in sdh_lst]\n",
    "    \n",
    "    sdh_total = np.sum(sdh_lst, axis=0)\n",
    "    \n",
    "    sdh_total /= sum(sdh_total)\n",
    "    return sdh_total\n",
    "\n",
    "\n",
    "def sdh_poisson_metric(x, y, windows=10):\n",
    "    sdh1 = get_sdh_window(x, windows)\n",
    "    sdh2 = get_sdh_window(y, windows)\n",
    "        \n",
    "    max_len = max(len(sdh1), len(sdh2))\n",
    "\n",
    "    sdh1 = pad_to_size(sdh1, max_len, 0)\n",
    "    sdh2 = pad_to_size(sdh2, max_len, 0)\n",
    "\n",
    "    return JSD(sdh1, sdh2)\n",
    "\n",
    "\n",
    "def build_matrix_precalc(arr, metric, cashed):\n",
    "    res = np.zeros((len(arr), len(arr)), dtype=float)\n",
    "    \n",
    "    for i in tqdm.tnrange(len(arr)):\n",
    "        for j in range(i + 1, len(arr)):\n",
    "            m = metric(arr[i], arr[j])\n",
    "            if np.isfinite(m):\n",
    "                res[i,j] = res[j, i] = m\n",
    "            else:\n",
    "                res[i,j] = res[j, i] = 1.\n",
    "    \n",
    "    return res \n",
    "\n",
    "\n",
    "def build_matrix(arr, metric):\n",
    "    res = np.zeros((len(arr), len(arr)), dtype=float)\n",
    "    \n",
    "    for i in tqdm.tnrange(len(arr)):\n",
    "        for j in range(i + 1, len(arr)):\n",
    "            m = metric(arr[i], arr[j])\n",
    "            if np.isfinite(m):\n",
    "                res[i,j] = res[j, i] = m\n",
    "            else:\n",
    "                res[i,j] = res[j, i] = 1.\n",
    "    \n",
    "    return res"
   ]
  },
  {
   "cell_type": "code",
   "execution_count": 14,
   "metadata": {
    "collapsed": true
   },
   "outputs": [],
   "source": [
    "def sdh_poisson_metric_precalc(sdh1, sdh2):\n",
    "    max_len = max(len(sdh1), len(sdh2))\n",
    "\n",
    "    sdh1_p = pad_to_size(sdh1, max_len, 0)\n",
    "    sdh2_p = pad_to_size(sdh2, max_len, 0)\n",
    "\n",
    "    return JSD(sdh1_p, sdh2_p)\n",
    "\n",
    "\n",
    "def build_matrix_precalc(arr, metric, cashed):\n",
    "    res = np.zeros((len(arr), len(arr)), dtype=float)\n",
    "    \n",
    "    for i in tqdm.tnrange(len(arr)):\n",
    "        for j in range(i + 1, len(arr)):\n",
    "            m = metric(cashed[i], cashed[j])\n",
    "            if np.isfinite(m):\n",
    "                res[i,j] = res[j, i] = m\n",
    "            else:\n",
    "                res[i,j] = res[j, i] = 1.\n",
    "    \n",
    "    return res \n"
   ]
  },
  {
   "cell_type": "code",
   "execution_count": 15,
   "metadata": {
    "collapsed": true
   },
   "outputs": [],
   "source": [
    "# labels = np.zeros(100)\n",
    "# labels[:50] = 1"
   ]
  },
  {
   "cell_type": "code",
   "execution_count": 16,
   "metadata": {
    "collapsed": true
   },
   "outputs": [],
   "source": [
    "# M_isi = build_matrix(logisi, logisi_gamma_metric)"
   ]
  },
  {
   "cell_type": "code",
   "execution_count": 17,
   "metadata": {
    "collapsed": true
   },
   "outputs": [],
   "source": [
    "# Z_isi = linkage(M_isi[np.triu_indices(M_isi.shape[0], 1)], 'ward')\n",
    "\n",
    "# plt.figure(figsize=(15,10))\n",
    "# d_dct = dendrogram(Z_isi)\n",
    "\n",
    "# ax = plt.gca()\n",
    "\n",
    "# for lbl in ax.get_xmajorticklabels():\n",
    "#     idx = int(lbl.get_text())\n",
    "#     if labels[idx]:\n",
    "#         lbl.set_color('red')\n",
    "#     else:\n",
    "#         lbl.set_color('green')"
   ]
  },
  {
   "cell_type": "code",
   "execution_count": 18,
   "metadata": {
    "collapsed": true
   },
   "outputs": [],
   "source": [
    "# fcluster(Z_isi, 0.5, criterion=\"distance\")"
   ]
  },
  {
   "cell_type": "code",
   "execution_count": 19,
   "metadata": {
    "collapsed": true
   },
   "outputs": [],
   "source": [
    "# cut_isi = fcluster(Z_isi, 0.5, criterion=\"distance\")\n",
    "# plt.figure(figsize=(15,10))\n",
    "# plt.scatter([c[0] for c in cv_ai], [c[1] for c in cv_ai], c=cut_isi)"
   ]
  },
  {
   "cell_type": "code",
   "execution_count": 20,
   "metadata": {
    "collapsed": true
   },
   "outputs": [],
   "source": [
    "# idx = [i for i, c in enumerate(cv_ai) if c[0] > 10]\n",
    "# print(idx)"
   ]
  },
  {
   "cell_type": "code",
   "execution_count": 21,
   "metadata": {},
   "outputs": [
    {
     "data": {
      "application/vnd.jupyter.widget-view+json": {
       "model_id": "02bcdb894dec4d47ab8c1eb8c676e044",
       "version_major": 2,
       "version_minor": 0
      },
      "text/plain": [
       "A Jupyter Widget"
      ]
     },
     "metadata": {},
     "output_type": "display_data"
    },
    {
     "name": "stdout",
     "output_type": "stream",
     "text": [
      "\n"
     ]
    },
    {
     "data": {
      "application/vnd.jupyter.widget-view+json": {
       "model_id": "f1f72be1971846babac7d1505c81a29e",
       "version_major": 2,
       "version_minor": 0
      },
      "text/plain": [
       "A Jupyter Widget"
      ]
     },
     "metadata": {},
     "output_type": "display_data"
    },
    {
     "name": "stdout",
     "output_type": "stream",
     "text": [
      "\n"
     ]
    }
   ],
   "source": [
    "sdh_vals = np.array([get_sdh(st) for st in tqdm.tqdm_notebook(only_st)])\n",
    "M = build_matrix_precalc(only_st, lambda x, y: sdh_poisson_metric_precalc(x, y), sdh_vals)"
   ]
  },
  {
   "cell_type": "code",
   "execution_count": 22,
   "metadata": {
    "collapsed": true
   },
   "outputs": [],
   "source": [
    "# M = build_matrix(only_st, lambda x, y: sdh_poisson_metric(x, y, 3))"
   ]
  },
  {
   "cell_type": "code",
   "execution_count": null,
   "metadata": {
    "collapsed": true
   },
   "outputs": [],
   "source": []
  },
  {
   "cell_type": "code",
   "execution_count": null,
   "metadata": {
    "collapsed": true
   },
   "outputs": [],
   "source": []
  },
  {
   "cell_type": "code",
   "execution_count": 23,
   "metadata": {},
   "outputs": [
    {
     "data": {
      "image/png": "[encoded data removed]",
      "text/plain": [
       "<matplotlib.figure.Figure at 0x12b12eb8>"
      ]
     },
     "metadata": {},
     "output_type": "display_data"
    }
   ],
   "source": [
    "Z = linkage(M[np.triu_indices(M.shape[0], 1)], 'ward')\n",
    "\n",
    "plt.figure(figsize=(15,10))\n",
    "d_dct = dendrogram(Z, color_threshold=0.5)\n",
    "\n",
    "ax = plt.gca()\n",
    "\n",
    "\n",
    "\n",
    "# for lbl in ax.get_xmajorticklabels():\n",
    "#     idx = int(lbl.get_text())\n",
    "#     if idx == 3:\n",
    "#         lbl.set_color('red')\n",
    "        \n",
    "#     if labels[idx]:\n",
    "#         lbl.set_color('red')\n",
    "#     else:\n",
    "#         lbl.set_color('green')\n",
    "\n",
    "# for lbl in ax.get_xmajorticklabels():\n",
    "#     idx = int(lbl.get_text())\n",
    "#     if labels[idx]:\n",
    "#         lbl.set_color('red')\n",
    "#     else:\n",
    "#         lbl.set_color('green')"
   ]
  },
  {
   "cell_type": "code",
   "execution_count": 24,
   "metadata": {
    "scrolled": false
   },
   "outputs": [
    {
     "name": "stdout",
     "output_type": "stream",
     "text": [
      "[1 2 3]\n"
     ]
    }
   ],
   "source": [
    "cut = fcluster(Z, 0.5, criterion=\"distance\")\n",
    "print(np.unique(cut))"
   ]
  },
  {
   "cell_type": "code",
   "execution_count": 25,
   "metadata": {
    "collapsed": true
   },
   "outputs": [],
   "source": [
    "# plt.figure(figsize=(15,10))\n",
    "# for l, col, name in zip(np.unique(cut), ['r','g','b'], ['burst', 'tonic', 'irregular']):\n",
    "#     idx = np.where(cut == l)\n",
    "#     plt.scatter(cv_ai[idx, 0], cv_ai[idx, 1], color=col, s=5, label=name)\n",
    "# # plt.scatter([c[0] for c in cv_ai], [c[1] for c in cv_ai], cmap='plasma', c=cut, s=5)\n",
    "\n",
    "# plt.xlim([0, 10])\n",
    "\n",
    "# plt.xlabel('CV')\n",
    "# plt.ylabel('AI')\n",
    "# plt.legend()"
   ]
  },
  {
   "cell_type": "code",
   "execution_count": null,
   "metadata": {
    "collapsed": true
   },
   "outputs": [],
   "source": []
  },
  {
   "cell_type": "code",
   "execution_count": 26,
   "metadata": {
    "collapsed": true
   },
   "outputs": [],
   "source": [
    "sdh_dct = dict()\n",
    "for l in np.unique(cut):\n",
    "    idx = np.where(cut == l)\n",
    "    sdh_dct[l] = sdh_vals[idx]"
   ]
  },
  {
   "cell_type": "code",
   "execution_count": 27,
   "metadata": {},
   "outputs": [
    {
     "name": "stdout",
     "output_type": "stream",
     "text": [
      "1\n",
      "[ 1.56541346  0.44553771  0.75960764]\n",
      "[ 0.6269268   0.05176429  0.28727132]\n",
      "[ 20.59936103   0.82802973   1.21378524]\n",
      "2\n",
      "[ 0.97979372  0.70301312  0.65393279]\n",
      "[ 0.46523984  0.57930223  0.18660103]\n",
      "[ 2.40185434  0.96807713  0.90705557]\n",
      "3\n",
      "[ 1.41965475  0.51551957  0.76740415]\n",
      "[ 0.79052567  0.20523416  0.21170958]\n",
      "[ 6.77908283  0.79591023  1.33706119]\n"
     ]
    }
   ],
   "source": [
    "cvai_stats = dict()\n",
    "for l in np.unique(cut):\n",
    "    idx = np.where(cut == l)\n",
    "    print(l)\n",
    "    print(np.median(cv_ai[idx], axis=0))\n",
    "    print(np.min(cv_ai[idx], axis=0))\n",
    "    print(np.max(cv_ai[idx], axis=0))"
   ]
  },
  {
   "cell_type": "code",
   "execution_count": 28,
   "metadata": {},
   "outputs": [
    {
     "name": "stdout",
     "output_type": "stream",
     "text": [
      "38 8.0\n",
      "8 5.0\n",
      "18 7.0\n"
     ]
    }
   ],
   "source": [
    "sdh_padded = dict()\n",
    "for k, val in sdh_dct.items():\n",
    "    max_len = np.max([len(s) for s in val])\n",
    "    print(np.max([len(s) for s in val]), np.median([len(s) for s in val]))\n",
    "    \n",
    "    padded = np.array([pad_to_size(sdh, max_len, 0.) for sdh in val])\n",
    "    sdh_padded[k] = padded"
   ]
  },
  {
   "cell_type": "code",
   "execution_count": 29,
   "metadata": {},
   "outputs": [
    {
     "data": {
      "image/png": "[encoded data removed]",
      "text/plain": [
       "<matplotlib.figure.Figure at 0x15880860>"
      ]
     },
     "metadata": {},
     "output_type": "display_data"
    },
    {
     "data": {
      "image/png": "[encoded data removed]",
      "text/plain": [
       "<matplotlib.figure.Figure at 0x1595d780>"
      ]
     },
     "metadata": {},
     "output_type": "display_data"
    },
    {
     "data": {
      "image/png": "[encoded data removed]",
      "text/plain": [
       "<matplotlib.figure.Figure at 0x1564fb00>"
      ]
     },
     "metadata": {},
     "output_type": "display_data"
    }
   ],
   "source": [
    "mean_dct = dict()\n",
    "for name, (k, val) in zip(['burst', 'tonic', 'irregular'], sdh_padded.items()):\n",
    "    mean_sdh = np.mean(val, axis=0)\n",
    "    \n",
    "    if len(mean_sdh) < 10:\n",
    "        mean_sdh = pad_to_size(mean_sdh, 10, 0.)\n",
    "    else:\n",
    "        mean_sdh = mean_sdh[:10]\n",
    "        \n",
    "    mean_dct[k] = mean_sdh\n",
    "    \n",
    "    plt.figure()\n",
    "    plt.bar(np.arange(10), mean_sdh)\n",
    "    plt.title(name)\n",
    "    \n",
    "    plt.xticks(np.arange(10))"
   ]
  },
  {
   "cell_type": "code",
   "execution_count": 30,
   "metadata": {
    "collapsed": true
   },
   "outputs": [],
   "source": [
    "def get_cluster_dists(sdh):   \n",
    "    if len(sdh) < 10:\n",
    "        sdh = pad_to_size(sdh, 10, 0.)\n",
    "    else:\n",
    "        sdh = sdh[:10]\n",
    "    \n",
    "#     res, min_dist = -1, 100500\n",
    "    res = np.zeros(3)\n",
    "    for k, val in mean_dct.items():\n",
    "        curr_dist = JSD(sdh, val)\n",
    "        res[k-1] = curr_dist\n",
    "#         if curr_dist < min_dist:\n",
    "#             res, min_dist = k, curr_dist\n",
    "    \n",
    "    return res\n",
    "    "
   ]
  },
  {
   "cell_type": "code",
   "execution_count": 31,
   "metadata": {
    "collapsed": true
   },
   "outputs": [],
   "source": [
    "dists = np.array([get_cluster_dists(sdh) for sdh in sdh_vals])\n",
    "# labels = np.array([get_nearest_cluster(sdh) for sdh in sdh_vals])\n",
    "labels = np.argmin(dists, axis=1) + 1\n",
    "most_similar = np.argmin(dists, axis=0)"
   ]
  },
  {
   "cell_type": "code",
   "execution_count": 32,
   "metadata": {},
   "outputs": [
    {
     "data": {
      "text/plain": [
       "<matplotlib.legend.Legend at 0x15523cc0>"
      ]
     },
     "execution_count": 32,
     "metadata": {},
     "output_type": "execute_result"
    },
    {
     "data": {
      "image/png": "[encoded data removed]",
      "text/plain": [
       "<matplotlib.figure.Figure at 0x15523f98>"
      ]
     },
     "metadata": {},
     "output_type": "display_data"
    }
   ],
   "source": [
    "plt.figure(figsize=(15,10))\n",
    "for l, col, name in zip(np.unique(labels), ['r','g','b'], ['burst', 'tonic', 'irregular']):\n",
    "    idx = np.where(labels == l)\n",
    "    plt.scatter(cv_ai[idx, 0], cv_ai[idx, 1], color=col, s=5, label=name)\n",
    "# plt.scatter([c[0] for c in cv_ai], [c[1] for c in cv_ai], cmap='plasma', c=cut, s=5)\n",
    "\n",
    "plt.xlim([0, 10])\n",
    "\n",
    "plt.xlabel('CV')\n",
    "plt.ylabel('AI')\n",
    "plt.legend()"
   ]
  },
  {
   "cell_type": "code",
   "execution_count": 33,
   "metadata": {
    "scrolled": false
   },
   "outputs": [
    {
     "data": {
      "image/png": "[encoded data removed]",
      "text/plain": [
       "<matplotlib.figure.Figure at 0x15425470>"
      ]
     },
     "metadata": {},
     "output_type": "display_data"
    }
   ],
   "source": [
    "fig, axes = plt.subplots(3, 2, figsize=(30, 18))\n",
    "for i, (idx, name) in enumerate(zip(most_similar, ['burst', 'tonic', 'irregular'])):\n",
    "#     plt.figure()\n",
    "    \n",
    "    ax1, ax2 = axes[i]\n",
    "    plot_spikes(only_st[idx], ax=ax1)\n",
    "    ax2.bar(np.arange(sdh_vals[idx].shape[0]), sdh_vals[idx])\n",
    "    \n",
    "    ax1.set_title('{} spike train'.format(name))\n",
    "    ax2.set_title('{} SDH'.format(name))"
   ]
  },
  {
   "cell_type": "code",
   "execution_count": null,
   "metadata": {
    "collapsed": true
   },
   "outputs": [],
   "source": []
  },
  {
   "cell_type": "code",
   "execution_count": null,
   "metadata": {
    "collapsed": true
   },
   "outputs": [],
   "source": []
  },
  {
   "cell_type": "code",
   "execution_count": null,
   "metadata": {
    "collapsed": true
   },
   "outputs": [],
   "source": []
  },
  {
   "cell_type": "code",
   "execution_count": 169,
   "metadata": {
    "collapsed": true
   },
   "outputs": [],
   "source": []
  },
  {
   "cell_type": "code",
   "execution_count": 34,
   "metadata": {},
   "outputs": [],
   "source": [
    "# tonic_inc = [0.1]\n",
    "# isi = 0.3\n",
    "# for _ in range(500):\n",
    "#     tonic_inc.append(tonic_inc[~0] + isi)\n",
    "#     isi *= 0.995\n",
    "\n",
    "# tonic_inc = np.array(tonic_inc)\n",
    "# isi_inc = tonic_inc[1:] - tonic_inc[:-1]"
   ]
  },
  {
   "cell_type": "code",
   "execution_count": 35,
   "metadata": {},
   "outputs": [],
   "source": [
    "# f, (ax1, ax2, ax3) = plt.subplots(ncols=3, figsize=(15,10))\n",
    "\n",
    "# fig = plt.figure(1, figsize=(15,10))\n",
    "# gridspec.GridSpec(2,3)\n",
    "\n",
    "# sdh = get_sdh(tonic_inc)\n",
    "# plt.subplot2grid((2,3), (0,0))\n",
    "# plt.bar(np.arange(sdh.shape[0]), sdh)\n",
    "# plt.title('no windows')\n",
    "\n",
    "# sdh_w = get_sdh_window(tonic_inc, windows=5)\n",
    "# plt.subplot2grid((2,3), (0,1))\n",
    "# plt.bar(np.arange(sdh_w.shape[0]), sdh_w)\n",
    "# plt.title('5 windows')\n",
    "# plt.xlim([-0.5, 5.5])\n",
    "\n",
    "# sdh_w = get_sdh_window(tonic_inc, windows=25)\n",
    "# plt.subplot2grid((2,3), (0,2))\n",
    "# plt.bar(np.arange(sdh_w.shape[0]), sdh_w)\n",
    "# plt.title('25 windows')\n",
    "# plt.xlim([-0.5, 5.5])\n",
    "\n",
    "# plt.subplot2grid((2,3), (1,0), colspan=3, rowspan=1)\n",
    "# for i in range(len(tonic_inc)):\n",
    "#     plt.plot([tonic_inc[i], tonic_inc[i]], [-1, 1], color='black', lw=0.25)\n",
    "\n",
    "# plt.ylim([-5., 5.])"
   ]
  },
  {
   "cell_type": "code",
   "execution_count": 41,
   "metadata": {
    "collapsed": true
   },
   "outputs": [],
   "source": [
    "def get_counts(st, return_counter=False):\n",
    "    isi = st[1:] - st[:-1]\n",
    "    splitted = clever_split(st, np.mean(isi))\n",
    "    lens = [len(t) for t in splitted]\n",
    "\n",
    "    if return_counter:\n",
    "        return Counter(lens)\n",
    "    else:\n",
    "        return lens"
   ]
  },
  {
   "cell_type": "code",
   "execution_count": 46,
   "metadata": {},
   "outputs": [],
   "source": [
    "just_lens = dict()\n",
    "for l  in np.unique(labels):\n",
    "    idx = np.where(labels == l)[0]\n",
    "    \n",
    "    res = list()\n",
    "    for i in idx:\n",
    "        res += get_counts(only_st[i])\n",
    "        \n",
    "    just_lens[l] = res"
   ]
  },
  {
   "cell_type": "code",
   "execution_count": 77,
   "metadata": {},
   "outputs": [],
   "source": [
    "def poisson(k, lamb):\n",
    "    \"\"\"poisson pdf, parameter lamb is the fit parameter\"\"\"\n",
    "    return (lamb**k/factorial(k)) * np.exp(-lamb)\n",
    "\n",
    "\n",
    "def negLogLikelihood(params, data):\n",
    "    \"\"\" the negative log-Likelohood-Function\"\"\"\n",
    "    lnl = -np.sum(np.log(poisson(data, params[0])))\n",
    "    return lnl"
   ]
  },
  {
   "cell_type": "code",
   "execution_count": null,
   "metadata": {},
   "outputs": [],
   "source": []
  },
  {
   "cell_type": "code",
   "execution_count": null,
   "metadata": {},
   "outputs": [],
   "source": []
  },
  {
   "cell_type": "code",
   "execution_count": null,
   "metadata": {},
   "outputs": [],
   "source": []
  },
  {
   "cell_type": "code",
   "execution_count": 103,
   "metadata": {},
   "outputs": [
    {
     "name": "stdout",
     "output_type": "stream",
     "text": [
      "burst, Dist params: 0.29990420868835477\n",
      "tonic, Dist params: (0.99145743844152701, 0.91339965876667728)\n",
      "irregular, Dist params: 0.939061514413839\n"
     ]
    },
    {
     "data": {
      "image/png": "[encoded data removed]",
      "text/plain": [
       "<matplotlib.figure.Figure at 0x1d5c11d0>"
      ]
     },
     "metadata": {},
     "output_type": "display_data"
    },
    {
     "data": {
      "image/png": "[encoded data removed]",
      "text/plain": [
       "<matplotlib.figure.Figure at 0x217eb5f8>"
      ]
     },
     "metadata": {},
     "output_type": "display_data"
    },
    {
     "data": {
      "image/png": "[encoded data removed]",
      "text/plain": [
       "<matplotlib.figure.Figure at 0x1d59c240>"
      ]
     },
     "metadata": {},
     "output_type": "display_data"
    }
   ],
   "source": [
    "for name, (k, val) in zip(['burst', 'tonic', 'irregular'], just_lens.items()):\n",
    "    x = np.arange(mean_dct[k].shape[0])\n",
    "    y = mean_dct[k]\n",
    "    \n",
    "    if k == 2:\n",
    "        x_vals = np.linspace(0, max(val), endpoint=True, num=1000)\n",
    "        u, v = sp.stats.norm.fit(val)\n",
    "        pdf_vals = sp.stats.norm.pdf(x_vals, loc=u, scale=v)\n",
    "        dist_params = (u, v)\n",
    "    else:\n",
    "        x_vals = x\n",
    "        res = minimize(negLogLikelihood, x0=np.ones(1), args=(val,), method='L-BFGS-B', bounds=((0.0005, 10),))\n",
    "        dist_params = res.x[0]\n",
    "        pdf_vals = poisson(x_vals, res.x)\n",
    "        \n",
    "    print('{}, Dist params: {}'.format(name, dist_params))\n",
    "    \n",
    "    plt.figure()\n",
    "    plt.bar(x, y)\n",
    "    plt.step(x_vals, pdf_vals, color='r', where='post')\n",
    "    plt.xticks(x)\n",
    "    \n",
    "    plt.title(name)"
   ]
  },
  {
   "cell_type": "code",
   "execution_count": null,
   "metadata": {},
   "outputs": [],
   "source": []
  },
  {
   "cell_type": "code",
   "execution_count": null,
   "metadata": {},
   "outputs": [],
   "source": []
  },
  {
   "cell_type": "code",
   "execution_count": null,
   "metadata": {},
   "outputs": [],
   "source": []
  },
  {
   "cell_type": "code",
   "execution_count": null,
   "metadata": {},
   "outputs": [],
   "source": []
  },
  {
   "cell_type": "code",
   "execution_count": null,
   "metadata": {},
   "outputs": [],
   "source": []
  },
  {
   "cell_type": "code",
   "execution_count": null,
   "metadata": {
    "collapsed": true
   },
   "outputs": [],
   "source": []
  },
  {
   "cell_type": "code",
   "execution_count": null,
   "metadata": {
    "collapsed": true
   },
   "outputs": [],
   "source": []
  }
 ],
 "metadata": {
  "kernelspec": {
   "display_name": "Python 3",
   "language": "python",
   "name": "python3"
  },
  "language_info": {
   "codemirror_mode": {
    "name": "ipython",
    "version": 3
   },
   "file_extension": ".py",
   "mimetype": "text/x-python",
   "name": "python",
   "nbconvert_exporter": "python",
   "pygments_lexer": "ipython3",
   "version": "3.6.2"
  }
 },
 "nbformat": 4,
 "nbformat_minor": 2
}
