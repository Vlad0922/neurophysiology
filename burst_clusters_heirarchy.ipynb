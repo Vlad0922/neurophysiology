{
 "cells": [
  {
   "cell_type": "code",
   "execution_count": 1,
   "metadata": {
    "collapsed": true
   },
   "outputs": [],
   "source": [
    "import sys\n",
    "import os\n",
    "\n",
    "import neo.io\n",
    "\n",
    "import numpy as np\n",
    "from scipy.cluster.hierarchy import dendrogram, linkage, fcluster\n",
    "\n",
    "import scipy as sp\n",
    "\n",
    "import matplotlib.pyplot as plt\n",
    "import seaborn as sns\n",
    "import matplotlib.gridspec as gridspec\n",
    "%matplotlib inline\n",
    "\n",
    "import tqdm\n",
    "\n",
    "from collections import Counter\n",
    "\n",
    "import pandas as pd"
   ]
  },
  {
   "cell_type": "code",
   "execution_count": 2,
   "metadata": {
    "collapsed": true
   },
   "outputs": [],
   "source": [
    "def plot_spikes(spikes, ax=None):\n",
    "    if ax is None:\n",
    "        f, ax = plt.subplots(figsize=(15,10))\n",
    "\n",
    "    for i in range(len(spikes)):\n",
    "        ax.plot([spikes[i], spikes[i]], [-1, 1], color='black', lw=0.2)\n",
    "    \n",
    "    ax.set_ylim([-5., 5.])"
   ]
  },
  {
   "cell_type": "code",
   "execution_count": 3,
   "metadata": {
    "collapsed": true
   },
   "outputs": [],
   "source": [
    "def read_spikes(dist_dir):\n",
    "    all_data = list()\n",
    "\n",
    "    for root, subdirs, files in os.walk(dist_dir):\n",
    "        for full_name, f_name in [(os.path.join(root, f_name), f_name) for f_name in files]:\n",
    "            patient = full_name.split(os.sep)[3]\n",
    "            ext = full_name[-3:].lower()\n",
    "\n",
    "            if ext == 'nex':\n",
    "                r = neo.io.NeuroExplorerIO(filename=full_name)\n",
    "                for blk in r.read(cascade=True, lazy=False):\n",
    "                    for seg in blk.segments:\n",
    "                        for st in seg.spiketrains:\n",
    "                            name_lower = str(st.name.lower())\n",
    "                            if name_lower.startswith('fon'):\n",
    "                                spikes = np.array(st)\n",
    "                                for interval in seg.epochs:\n",
    "                                    int_name = interval.annotations['channel_name'].lower()\n",
    "                                    if name_lower.startswith(int_name):\n",
    "                                        for s, d in zip(interval.times, interval.durations):\n",
    "                                            e = s + d\n",
    "                                            spikes_filtered = spikes[np.where((spikes >= s) & (spikes <= e))]\n",
    "                                            if len(spikes_filtered) > 100 and (spikes_filtered[~0] - spikes_filtered[0]) > 5.:\n",
    "                                                df = dict()\n",
    "                                                df['st'] = spikes\n",
    "                                                df['patient'] = patient\n",
    "                                                df['data_name'] = st.name\n",
    "                                                df['doc_name'] = f_name\n",
    "                                                df['interval_name'] = int_name\n",
    "\n",
    "                                                all_data.append(df)\n",
    "\n",
    "                            elif name_lower.startswith('allfile') or name_lower.startswith('nw'):\n",
    "                                spikes = np.array(st)\n",
    "                                if len(spikes) > 50 and (spikes[~0] - spikes[0] > 5.):                                    \n",
    "                                    df = dict()\n",
    "                                    df['st'] = spikes\n",
    "                                    df['patient'] = patient\n",
    "                                    df['data_name'] = st.name\n",
    "                                    df['doc_name'] = f_name\n",
    "                                    df['interval_name'] = 'allfile'\n",
    "\n",
    "                                    all_data.append(df)\n",
    "                                    \n",
    "    return all_data\n"
   ]
  },
  {
   "cell_type": "code",
   "execution_count": null,
   "metadata": {
    "collapsed": true
   },
   "outputs": [],
   "source": []
  },
  {
   "cell_type": "code",
   "execution_count": 11,
   "metadata": {
    "collapsed": true
   },
   "outputs": [],
   "source": [
    "stat_data = pd.read_excel('awake.xls')"
   ]
  },
  {
   "cell_type": "code",
   "execution_count": null,
   "metadata": {},
   "outputs": [],
   "source": []
  },
  {
   "cell_type": "code",
   "execution_count": null,
   "metadata": {},
   "outputs": [],
   "source": []
  },
  {
   "cell_type": "code",
   "execution_count": null,
   "metadata": {},
   "outputs": [],
   "source": []
  },
  {
   "cell_type": "code",
   "execution_count": 31,
   "metadata": {},
   "outputs": [
    {
     "data": {
      "text/plain": [
       "<matplotlib.text.Text at 0x16802cc0>"
      ]
     },
     "execution_count": 31,
     "metadata": {},
     "output_type": "execute_result"
    },
    {
     "data": {
      "image/png": "[encoded data removed]",
      "text/plain": [
       "<matplotlib.figure.Figure at 0x167e8438>"
      ]
     },
     "metadata": {},
     "output_type": "display_data"
    }
   ],
   "source": [
    "fig = plt.figure(figsize=(15,10))\n",
    "sc = plt.scatter(stat_data['cv'], stat_data['burst_mean'], c=stat_data['burst_spike_percent'])\n",
    "\n",
    "cbar = fig.colorbar(sc, ticks=[-1, 0, 1])\n",
    "\n",
    "plt.xlabel('cv')\n",
    "plt.ylabel('AI')"
   ]
  },
  {
   "cell_type": "code",
   "execution_count": null,
   "metadata": {
    "collapsed": true
   },
   "outputs": [],
   "source": [
    "dist_dir_a = 'C:\\\\projects\\\\neuro_data\\\\data_for_analyze\\\\awake'\n",
    "dist_dir_s = 'C:\\\\projects\\\\neuro_data\\\\data_for_analyze\\\\sleep'"
   ]
  },
  {
   "cell_type": "code",
   "execution_count": 28,
   "metadata": {
    "collapsed": true
   },
   "outputs": [],
   "source": [
    "data_a = read_spikes(dist_dir_a)\n",
    "data_s = read_spikes(dist_dir_s)"
   ]
  },
  {
   "cell_type": "code",
   "execution_count": 372,
   "metadata": {
    "collapsed": true
   },
   "outputs": [],
   "source": [
    "only_st = list()\n",
    "names = list()\n",
    "\n",
    "for d in data_a:\n",
    "    if len(d['st']) > 100:\n",
    "        only_st.append(d['st'])\n",
    "        names.append('{};{};{}'.format(d['doc_name'], d['data_name'], d['interval_name']))\n",
    "\n",
    "    if len(only_st) == 50:\n",
    "        break\n",
    "        \n",
    "    \n",
    "for d in data_s:\n",
    "    if len(d['st']) > 100:\n",
    "        only_st.append(d['st'])\n",
    "        names.append('{};{};{}'.format(d['doc_name'], d['data_name'], d['interval_name']))\n",
    "        \n",
    "    if len(only_st) == 100:\n",
    "        break"
   ]
  },
  {
   "cell_type": "code",
   "execution_count": 373,
   "metadata": {
    "collapsed": true
   },
   "outputs": [],
   "source": [
    "cv_ai = [stat_dict[n] for n in names]\n",
    "only_isi = [st[1:] - st[:-1] for st in only_st]\n",
    "logisi = [np.log(isi[np.nonzero(isi)]) for isi in only_isi]"
   ]
  },
  {
   "cell_type": "code",
   "execution_count": 374,
   "metadata": {},
   "outputs": [
    {
     "data": {
      "text/plain": [
       "(100, 100)"
      ]
     },
     "execution_count": 374,
     "metadata": {},
     "output_type": "execute_result"
    }
   ],
   "source": [
    "len(only_st), len(names)"
   ]
  },
  {
   "cell_type": "code",
   "execution_count": 104,
   "metadata": {
    "collapsed": true
   },
   "outputs": [],
   "source": [
    "def clever_split(arr, step):\n",
    "    res = list()\n",
    "    \n",
    "    idx = 0\n",
    "    for l in np.arange(0, arr[~0], step):\n",
    "        curr = list()\n",
    "        while(idx < len(arr) and arr[idx] < l + step):\n",
    "            curr.append(arr[idx])\n",
    "            idx += 1\n",
    "        \n",
    "        res.append(curr)\n",
    "    \n",
    "    return res"
   ]
  },
  {
   "cell_type": "code",
   "execution_count": 326,
   "metadata": {
    "collapsed": true
   },
   "outputs": [],
   "source": []
  },
  {
   "cell_type": "code",
   "execution_count": null,
   "metadata": {
    "collapsed": true
   },
   "outputs": [],
   "source": []
  },
  {
   "cell_type": "code",
   "execution_count": 389,
   "metadata": {
    "collapsed": true
   },
   "outputs": [],
   "source": [
    "def boot_fit(x, dist, iters=100):\n",
    "    params = np.array([dist.fit(np.random.choice(x, size=len(x))) for _ in range(iters)])\n",
    "    return np.mean(params, axis=0)\n",
    "\n",
    "def JSD(P, Q):\n",
    "    _P = P / np.linalg.norm(P, ord=1)\n",
    "    _Q = Q / np.linalg.norm(Q, ord=1)\n",
    "    _M = 0.5 * (_P + _Q)\n",
    "    return 0.5 * (sp.stats.entropy(_P, _M) + sp.stats.entropy(_Q, _M))\n",
    "\n",
    "def logisi_gamma_metric(x, y):\n",
    "    x_norm = x/np.max(x)\n",
    "    y_norm = y/np.max(y)\n",
    "    \n",
    "    a1,b1,s1 = sp.stats.gamma.fit(x)\n",
    "    a2,b2,s2 = sp.stats.gamma.fit(y)\n",
    "    \n",
    "    x_axis = np.arange(-10, 10, 0.001)\n",
    "    d1 = sp.stats.gamma.pdf(x_axis, a1, b1, s1)\n",
    "    d2 = sp.stats.gamma.pdf(x_axis, a2, b2, s2)\n",
    "    \n",
    "    return JSD(d1, d2)\n",
    "\n",
    "\n",
    "def get_sdh(st, norm = True):\n",
    "    isi = st[1:] - st[:-1]\n",
    "    splitted = clever_split(st, np.mean(isi))\n",
    "    counts = Counter([len(t) for t in splitted])\n",
    "        \n",
    "    res = np.zeros(max(counts.keys()) + 1)\n",
    "    \n",
    "    for idx, val in counts.items():\n",
    "        res[idx] = val\n",
    "    \n",
    "    \n",
    "    if(norm):\n",
    "        res /= sum(res)\n",
    "    \n",
    "    return res    \n",
    "\n",
    "\n",
    "def pad_to_size(arr, sz, val):\n",
    "    res = np.full(sz, val, dtype=float)\n",
    "    res[:len(arr)] = arr\n",
    "    \n",
    "    return res\n",
    "\n",
    "\n",
    "def get_sdh_window(st, windows=5):\n",
    "    splits = np.array_split(st, windows)\n",
    "    sdh_lst = [get_sdh(spl) for spl in splits]\n",
    "    max_len = max([len(sdh) for sdh in sdh_lst])\n",
    "    \n",
    "    sdh_lst = [pad_to_size(sdh, max_len, 0.) for sdh in sdh_lst]\n",
    "    \n",
    "    sdh_total = np.sum(sdh_lst, axis=0)\n",
    "    \n",
    "    sdh_total /= sum(sdh_total)\n",
    "    return sdh_total\n",
    "\n",
    "\n",
    "def sdh_poisson_metric(x, y, windows=10):\n",
    "    sdh1 = get_sdh_window(x, windows)\n",
    "    sdh2 = get_sdh_window(y, windows)\n",
    "        \n",
    "    max_len = max(len(sdh1), len(sdh2))\n",
    "\n",
    "    sdh1 = pad_to_size(sdh1, max_len, 0)\n",
    "    sdh2 = pad_to_size(sdh2, max_len, 0)\n",
    "\n",
    "    return JSD(sdh1, sdh2)\n",
    "\n",
    "\n",
    "def build_matrix(arr, metric):\n",
    "    res = np.zeros((len(arr), len(arr)), dtype=float)\n",
    "    \n",
    "    for i in tqdm.tnrange(len(arr)):\n",
    "        for j in range(i + 1, len(arr)):\n",
    "            m = metric(arr[i], arr[j])\n",
    "            if np.isfinite(m):\n",
    "                res[i,j] = res[j, i] = m\n",
    "            else:\n",
    "                res[i,j] = res[j, i] = 1.\n",
    "    \n",
    "    return res"
   ]
  },
  {
   "cell_type": "code",
   "execution_count": null,
   "metadata": {
    "collapsed": true
   },
   "outputs": [],
   "source": []
  },
  {
   "cell_type": "code",
   "execution_count": null,
   "metadata": {
    "collapsed": true
   },
   "outputs": [],
   "source": []
  },
  {
   "cell_type": "code",
   "execution_count": null,
   "metadata": {
    "collapsed": true
   },
   "outputs": [],
   "source": []
  },
  {
   "cell_type": "code",
   "execution_count": 210,
   "metadata": {
    "collapsed": true
   },
   "outputs": [],
   "source": [
    "labels = np.zeros(100)\n",
    "labels[:50] = 1"
   ]
  },
  {
   "cell_type": "code",
   "execution_count": 390,
   "metadata": {},
   "outputs": [
    {
     "data": {
      "application/vnd.jupyter.widget-view+json": {
       "model_id": "c3afc4ba276b45d69c4c4b2d8b7b22f5",
       "version_major": 2,
       "version_minor": 0
      },
      "text/plain": [
       "A Jupyter Widget"
      ]
     },
     "metadata": {},
     "output_type": "display_data"
    },
    {
     "name": "stdout",
     "output_type": "stream",
     "text": [
      "\n"
     ]
    }
   ],
   "source": [
    "M_isi = build_matrix(logisi, logisi_gamma_metric)"
   ]
  },
  {
   "cell_type": "code",
   "execution_count": 391,
   "metadata": {},
   "outputs": [
    {
     "data": {
      "image/png": "[encoded data removed]",
      "text/plain": [
       "<matplotlib.figure.Figure at 0x2283b320>"
      ]
     },
     "metadata": {},
     "output_type": "display_data"
    }
   ],
   "source": [
    "Z_isi = linkage(M_isi[np.triu_indices(M_isi.shape[0], 1)], 'ward')\n",
    "\n",
    "plt.figure(figsize=(15,10))\n",
    "d_dct = dendrogram(Z_isi)\n",
    "\n",
    "ax = plt.gca()\n",
    "\n",
    "for lbl in ax.get_xmajorticklabels():\n",
    "    idx = int(lbl.get_text())\n",
    "    if labels[idx]:\n",
    "        lbl.set_color('red')\n",
    "    else:\n",
    "        lbl.set_color('green')"
   ]
  },
  {
   "cell_type": "code",
   "execution_count": 394,
   "metadata": {},
   "outputs": [
    {
     "data": {
      "text/plain": [
       "array([3, 3, 3, 1, 1, 3, 1, 2, 1, 3, 3, 2, 3, 3, 2, 1, 3, 3, 1, 1, 3, 3, 3,\n",
       "       3, 1, 3, 3, 3, 3, 3, 3, 2, 2, 3, 2, 3, 3, 1, 3, 3, 3, 3, 1, 3, 3, 1,\n",
       "       3, 3, 3, 3, 3, 3, 2, 3, 3, 1, 2, 3, 2, 2, 3, 1, 1, 1, 3, 3, 2, 2, 3,\n",
       "       3, 3, 3, 3, 3, 3, 3, 3, 2, 3, 3, 1, 1, 3, 3, 3, 3, 1, 2, 3, 3, 3, 3,\n",
       "       3, 1, 1, 3, 3, 3, 3, 3], dtype=int32)"
      ]
     },
     "execution_count": 394,
     "metadata": {},
     "output_type": "execute_result"
    }
   ],
   "source": [
    "fcluster(Z_isi, 0.5, criterion=\"distance\")"
   ]
  },
  {
   "cell_type": "code",
   "execution_count": 396,
   "metadata": {},
   "outputs": [
    {
     "data": {
      "text/plain": [
       "<matplotlib.collections.PathCollection at 0x15f08278>"
      ]
     },
     "execution_count": 396,
     "metadata": {},
     "output_type": "execute_result"
    },
    {
     "data": {
      "image/png": "[encoded data removed]",
      "text/plain": [
       "<matplotlib.figure.Figure at 0x15ea4400>"
      ]
     },
     "metadata": {},
     "output_type": "display_data"
    }
   ],
   "source": [
    "cut_isi = fcluster(Z_isi, 0.5, criterion=\"distance\")\n",
    "plt.figure(figsize=(15,10))\n",
    "plt.scatter([c[0] for c in cv_ai], [c[1] for c in cv_ai], c=cut_isi)"
   ]
  },
  {
   "cell_type": "code",
   "execution_count": 375,
   "metadata": {},
   "outputs": [
    {
     "data": {
      "application/vnd.jupyter.widget-view+json": {
       "model_id": "586f0a4756b9441fad99d138bcd3c7cc",
       "version_major": 2,
       "version_minor": 0
      },
      "text/plain": [
       "A Jupyter Widget"
      ]
     },
     "metadata": {},
     "output_type": "display_data"
    },
    {
     "name": "stdout",
     "output_type": "stream",
     "text": [
      "\n"
     ]
    }
   ],
   "source": [
    "M = build_matrix(only_st, lambda x, y: sdh_poisson_metric(x, y, 1))"
   ]
  },
  {
   "cell_type": "code",
   "execution_count": null,
   "metadata": {
    "collapsed": true
   },
   "outputs": [],
   "source": []
  },
  {
   "cell_type": "code",
   "execution_count": 376,
   "metadata": {},
   "outputs": [
    {
     "data": {
      "image/png": "[encoded data removed]",
      "text/plain": [
       "<matplotlib.figure.Figure at 0x2096dfd0>"
      ]
     },
     "metadata": {},
     "output_type": "display_data"
    }
   ],
   "source": [
    "Z = linkage(M[np.triu_indices(M.shape[0], 1)], 'ward')\n",
    "\n",
    "plt.figure(figsize=(15,10))\n",
    "d_dct = dendrogram(Z)\n",
    "\n",
    "ax = plt.gca()\n",
    "\n",
    "for lbl in ax.get_xmajorticklabels():\n",
    "    idx = int(lbl.get_text())\n",
    "    if labels[idx]:\n",
    "        lbl.set_color('red')\n",
    "    else:\n",
    "        lbl.set_color('green')"
   ]
  },
  {
   "cell_type": "code",
   "execution_count": 384,
   "metadata": {},
   "outputs": [
    {
     "data": {
      "text/plain": [
       "<matplotlib.collections.PathCollection at 0x23c12b00>"
      ]
     },
     "execution_count": 384,
     "metadata": {},
     "output_type": "execute_result"
    },
    {
     "data": {
      "image/png": "[encoded data removed]",
      "text/plain": [
       "<matplotlib.figure.Figure at 0x209b9f60>"
      ]
     },
     "metadata": {},
     "output_type": "display_data"
    }
   ],
   "source": [
    "cut = fcluster(Z, 0.15, criterion=\"distance\")\n",
    "plt.figure(figsize=(15,10))\n",
    "plt.scatter([c[0] for c in cv_ai], [c[1] for c in cv_ai], c=cut)"
   ]
  },
  {
   "cell_type": "code",
   "execution_count": null,
   "metadata": {
    "collapsed": true
   },
   "outputs": [],
   "source": []
  },
  {
   "cell_type": "code",
   "execution_count": null,
   "metadata": {
    "collapsed": true
   },
   "outputs": [],
   "source": []
  },
  {
   "cell_type": "code",
   "execution_count": null,
   "metadata": {
    "collapsed": true
   },
   "outputs": [],
   "source": []
  },
  {
   "cell_type": "code",
   "execution_count": null,
   "metadata": {
    "collapsed": true
   },
   "outputs": [],
   "source": []
  },
  {
   "cell_type": "code",
   "execution_count": null,
   "metadata": {
    "collapsed": true
   },
   "outputs": [],
   "source": []
  },
  {
   "cell_type": "code",
   "execution_count": null,
   "metadata": {
    "collapsed": true
   },
   "outputs": [],
   "source": []
  },
  {
   "cell_type": "code",
   "execution_count": 276,
   "metadata": {
    "collapsed": true
   },
   "outputs": [],
   "source": [
    "tonic_inc = [0.1]\n",
    "isi = 0.3\n",
    "for _ in range(500):\n",
    "    tonic_inc.append(tonic_inc[~0] + isi)\n",
    "    isi *= 0.995\n",
    "\n",
    "tonic_inc = np.array(tonic_inc)\n",
    "isi_inc = tonic_inc[1:] - tonic_inc[:-1]"
   ]
  },
  {
   "cell_type": "code",
   "execution_count": 229,
   "metadata": {},
   "outputs": [
    {
     "data": {
      "image/png": "[encoded data removed]",
      "text/plain": [
       "<matplotlib.figure.Figure at 0x1413d0f0>"
      ]
     },
     "metadata": {},
     "output_type": "display_data"
    }
   ],
   "source": [
    "plot_spikes(tonic_inc)"
   ]
  },
  {
   "cell_type": "code",
   "execution_count": 275,
   "metadata": {},
   "outputs": [
    {
     "data": {
      "text/plain": [
       "(-5.0, 5.0)"
      ]
     },
     "execution_count": 275,
     "metadata": {},
     "output_type": "execute_result"
    },
    {
     "data": {
      "image/png": "[encoded data removed]",
      "text/plain": [
       "<matplotlib.figure.Figure at 0x2259e6d8>"
      ]
     },
     "metadata": {},
     "output_type": "display_data"
    }
   ],
   "source": [
    "# f, (ax1, ax2, ax3) = plt.subplots(ncols=3, figsize=(15,10))\n",
    "\n",
    "fig = plt.figure(1, figsize=(15,10))\n",
    "gridspec.GridSpec(2,3)\n",
    "\n",
    "sdh = get_sdh(tonic_inc)\n",
    "plt.subplot2grid((2,3), (0,0))\n",
    "plt.bar(np.arange(sdh.shape[0]), sdh)\n",
    "plt.title('no windows')\n",
    "\n",
    "sdh_w = get_sdh_window(tonic_inc, windows=5)\n",
    "plt.subplot2grid((2,3), (0,1))\n",
    "plt.bar(np.arange(sdh_w.shape[0]), sdh_w)\n",
    "plt.title('5 windows')\n",
    "plt.xlim([-0.5, 5.5])\n",
    "\n",
    "sdh_w = get_sdh_window(tonic_inc, windows=25)\n",
    "plt.subplot2grid((2,3), (0,2))\n",
    "plt.bar(np.arange(sdh_w.shape[0]), sdh_w)\n",
    "plt.title('25 windows')\n",
    "plt.xlim([-0.5, 5.5])\n",
    "\n",
    "plt.subplot2grid((2,3), (1,0), colspan=3, rowspan=1)\n",
    "for i in range(len(tonic_inc)):\n",
    "    plt.plot([tonic_inc[i], tonic_inc[i]], [-1, 1], color='black', lw=0.25)\n",
    "\n",
    "plt.ylim([-5., 5.])\n",
    "# plot_spikes(tonic_inc, ax=ax3)\n",
    "\n",
    "# fig.tight_layout()"
   ]
  },
  {
   "cell_type": "code",
   "execution_count": 279,
   "metadata": {},
   "outputs": [
    {
     "data": {
      "text/plain": [
       "<matplotlib.collections.PathCollection at 0x2085fcf8>"
      ]
     },
     "execution_count": 279,
     "metadata": {},
     "output_type": "execute_result"
    },
    {
     "data": {
      "image/png": "[encoded data removed]",
      "text/plain": [
       "<matplotlib.figure.Figure at 0x208dcc88>"
      ]
     },
     "metadata": {},
     "output_type": "display_data"
    }
   ],
   "source": [
    "plt.figure(figsize=(15,10))\n",
    "plt.scatter(isi_inc[:-1], isi_inc[1:], s=5)"
   ]
  },
  {
   "cell_type": "code",
   "execution_count": 289,
   "metadata": {
    "collapsed": true
   },
   "outputs": [],
   "source": [
    "st_tonic_sn = [0.1]\n",
    "isi = 0.05\n",
    "for i in range(500):\n",
    "    j = i*np.pi/16\n",
    "    st_tonic_sn.append(st_tonic_sn[~0] + isi*(np.sin(j) + 1))\n",
    "    \n",
    "st_tonic_sn = np.array(st_tonic_sn)\n",
    "isi_sn = st_tonic_sn[1:]- st_tonic_sn[:-1]"
   ]
  },
  {
   "cell_type": "code",
   "execution_count": 288,
   "metadata": {},
   "outputs": [
    {
     "data": {
      "text/plain": [
       "(-5, 5)"
      ]
     },
     "execution_count": 288,
     "metadata": {},
     "output_type": "execute_result"
    },
    {
     "data": {
      "image/png": "[encoded data removed]",
      "text/plain": [
       "<matplotlib.figure.Figure at 0x228623c8>"
      ]
     },
     "metadata": {},
     "output_type": "display_data"
    }
   ],
   "source": [
    "plt.figure(figsize=(15, 10))\n",
    "for i in range(len(tonic_inc)):\n",
    "    \n",
    "    plt.plot([st_tonic_sn[i], st_tonic_sn[i]], [-1, 1], color='black', lw=0.25)\n",
    "\n",
    "plt.ylim([-5, 5])"
   ]
  },
  {
   "cell_type": "code",
   "execution_count": 290,
   "metadata": {},
   "outputs": [
    {
     "data": {
      "text/plain": [
       "<matplotlib.collections.PathCollection at 0x232a2860>"
      ]
     },
     "execution_count": 290,
     "metadata": {},
     "output_type": "execute_result"
    },
    {
     "data": {
      "image/png": "[encoded data removed]",
      "text/plain": [
       "<matplotlib.figure.Figure at 0x2287b908>"
      ]
     },
     "metadata": {},
     "output_type": "display_data"
    }
   ],
   "source": [
    "plt.figure(figsize=(15,10))\n",
    "plt.scatter(isi_sn[:-1], isi_sn[1:], s=5)"
   ]
  },
  {
   "cell_type": "code",
   "execution_count": 305,
   "metadata": {},
   "outputs": [
    {
     "data": {
      "text/plain": [
       "{'color_list': ['g',\n",
       "  'g',\n",
       "  'g',\n",
       "  'g',\n",
       "  'g',\n",
       "  'g',\n",
       "  'g',\n",
       "  'g',\n",
       "  'g',\n",
       "  'g',\n",
       "  'g',\n",
       "  'g',\n",
       "  'g',\n",
       "  'g',\n",
       "  'g',\n",
       "  'g',\n",
       "  'g',\n",
       "  'g',\n",
       "  'g',\n",
       "  'g',\n",
       "  'g',\n",
       "  'g',\n",
       "  'g',\n",
       "  'g',\n",
       "  'g',\n",
       "  'g',\n",
       "  'g',\n",
       "  'g',\n",
       "  'g',\n",
       "  'g',\n",
       "  'g',\n",
       "  'g',\n",
       "  'g',\n",
       "  'g',\n",
       "  'g',\n",
       "  'g',\n",
       "  'g',\n",
       "  'g',\n",
       "  'g',\n",
       "  'g',\n",
       "  'g',\n",
       "  'g',\n",
       "  'g',\n",
       "  'g',\n",
       "  'g',\n",
       "  'g',\n",
       "  'g',\n",
       "  'g',\n",
       "  'g',\n",
       "  'g',\n",
       "  'g',\n",
       "  'r',\n",
       "  'r',\n",
       "  'r',\n",
       "  'r',\n",
       "  'r',\n",
       "  'r',\n",
       "  'r',\n",
       "  'r',\n",
       "  'r',\n",
       "  'r',\n",
       "  'r',\n",
       "  'r',\n",
       "  'r',\n",
       "  'r',\n",
       "  'r',\n",
       "  'r',\n",
       "  'r',\n",
       "  'r',\n",
       "  'r',\n",
       "  'r',\n",
       "  'r',\n",
       "  'r',\n",
       "  'r',\n",
       "  'r',\n",
       "  'r',\n",
       "  'r',\n",
       "  'r',\n",
       "  'r',\n",
       "  'r',\n",
       "  'r',\n",
       "  'r',\n",
       "  'r',\n",
       "  'r',\n",
       "  'r',\n",
       "  'r',\n",
       "  'r',\n",
       "  'r',\n",
       "  'r',\n",
       "  'r',\n",
       "  'r',\n",
       "  'r',\n",
       "  'r',\n",
       "  'r',\n",
       "  'r',\n",
       "  'r',\n",
       "  'r',\n",
       "  'r',\n",
       "  'b'],\n",
       " 'dcoord': [[0.0, 0.00056748554488859372, 0.00056748554488859372, 0.0],\n",
       "  [0.0, 0.00031161829859329207, 0.00031161829859329207, 0.0],\n",
       "  [0.0, 0.00044380626023749988, 0.00044380626023749988, 0.0],\n",
       "  [0.00031161829859329207,\n",
       "   0.0010920296699149475,\n",
       "   0.0010920296699149475,\n",
       "   0.00044380626023749988],\n",
       "  [0.00056748554488859372,\n",
       "   0.0019622245821973049,\n",
       "   0.0019622245821973049,\n",
       "   0.0010920296699149475],\n",
       "  [0.0, 0.00031102918620632845, 0.00031102918620632845, 0.0],\n",
       "  [0.0,\n",
       "   0.00055660806097718044,\n",
       "   0.00055660806097718044,\n",
       "   0.00031102918620632845],\n",
       "  [0.0,\n",
       "   0.00073350484797118085,\n",
       "   0.00073350484797118085,\n",
       "   0.00055660806097718044],\n",
       "  [0.0, 0.0020438686396730306, 0.0020438686396730306, 0.00073350484797118085],\n",
       "  [0.0, 0.0, 0.0, 0.0],\n",
       "  [0.0, 0.0012153598757743784, 0.0012153598757743784, 0.0],\n",
       "  [0.0, 0.0023442860053929501, 0.0023442860053929501, 0.0012153598757743784],\n",
       "  [0.0020438686396730306,\n",
       "   0.0032176036076028524,\n",
       "   0.0032176036076028524,\n",
       "   0.0023442860053929501],\n",
       "  [0.0, 0.0033247379023764673, 0.0033247379023764673, 0.0032176036076028524],\n",
       "  [0.0019622245821973049,\n",
       "   0.005122426787372787,\n",
       "   0.005122426787372787,\n",
       "   0.0033247379023764673],\n",
       "  [0.0, 0.0080225347023057357, 0.0080225347023057357, 0.005122426787372787],\n",
       "  [0.0, 0.0046971943658608564, 0.0046971943658608564, 0.0],\n",
       "  [0.0, 0.00090117096754564351, 0.00090117096754564351, 0.0],\n",
       "  [0.0, 0.0025002320508931736, 0.0025002320508931736, 0.00090117096754564351],\n",
       "  [0.0, 0.0031099536500032287, 0.0031099536500032287, 0.0025002320508931736],\n",
       "  [0.0, 0.0031312324627374927, 0.0031312324627374927, 0.0],\n",
       "  [0.0, 0.0058324957687358554, 0.0058324957687358554, 0.0031312324627374927],\n",
       "  [0.0, 0.0067171364271881185, 0.0067171364271881185, 0.0058324957687358554],\n",
       "  [0.0031099536500032287,\n",
       "   0.0087214694148269774,\n",
       "   0.0087214694148269774,\n",
       "   0.0067171364271881185],\n",
       "  [0.0046971943658608564,\n",
       "   0.019073223733206027,\n",
       "   0.019073223733206027,\n",
       "   0.0087214694148269774],\n",
       "  [0.0080225347023057357,\n",
       "   0.027898877811387189,\n",
       "   0.027898877811387189,\n",
       "   0.019073223733206027],\n",
       "  [0.0, 0.00073921484202730332, 0.00073921484202730332, 0.0],\n",
       "  [0.0, 0.0014654549450198457, 0.0014654549450198457, 0.00073921484202730332],\n",
       "  [0.0, 0.0028751532437920843, 0.0028751532437920843, 0.0014654549450198457],\n",
       "  [0.0, 0.0, 0.0, 0.0],\n",
       "  [0.0, 0.00081362915407021607, 0.00081362915407021607, 0.0],\n",
       "  [0.0, 0.0023308707536389209, 0.0023308707536389209, 0.00081362915407021607],\n",
       "  [0.0, 0.0034272974197025476, 0.0034272974197025476, 0.0023308707536389209],\n",
       "  [0.0, 0.0, 0.0, 0.0],\n",
       "  [0.0, 0.00088799994114150283, 0.00088799994114150283, 0.0],\n",
       "  [0.0, 0.002206024141383585, 0.002206024141383585, 0.00088799994114150283],\n",
       "  [0.0, 0.0052078760360843891, 0.0052078760360843891, 0.002206024141383585],\n",
       "  [0.0034272974197025476,\n",
       "   0.0099059799764636552,\n",
       "   0.0099059799764636552,\n",
       "   0.0052078760360843891],\n",
       "  [0.0, 0.0, 0.0, 0.0],\n",
       "  [0.0, 0.0, 0.0, 0.0],\n",
       "  [0.0, 0.00010393219048703689, 0.00010393219048703689, 0.0],\n",
       "  [0.0, 0.00046706473464049969, 0.00046706473464049969, 0.0],\n",
       "  [0.00010393219048703689,\n",
       "   0.00077207235179588491,\n",
       "   0.00077207235179588491,\n",
       "   0.00046706473464049969],\n",
       "  [0.0, 0.0013644115982090897, 0.0013644115982090897, 0.00077207235179588491],\n",
       "  [0.0, 0.0031597591721233696, 0.0031597591721233696, 0.0],\n",
       "  [0.0, 0.0053159538963186703, 0.0053159538963186703, 0.0031597591721233696],\n",
       "  [0.0013644115982090897,\n",
       "   0.0090405744381296775,\n",
       "   0.0090405744381296775,\n",
       "   0.0053159538963186703],\n",
       "  [0.0, 0.012039840075975377, 0.012039840075975377, 0.0090405744381296775],\n",
       "  [0.0099059799764636552,\n",
       "   0.017552419221641313,\n",
       "   0.017552419221641313,\n",
       "   0.012039840075975377],\n",
       "  [0.0028751532437920843,\n",
       "   0.04759753077617164,\n",
       "   0.04759753077617164,\n",
       "   0.017552419221641313],\n",
       "  [0.027898877811387189,\n",
       "   0.11783221905211629,\n",
       "   0.11783221905211629,\n",
       "   0.04759753077617164],\n",
       "  [0.0, 0.018918973789379442, 0.018918973789379442, 0.0],\n",
       "  [0.0, 0.0050583654167661619, 0.0050583654167661619, 0.0],\n",
       "  [0.0, 0.0094621588397380326, 0.0094621588397380326, 0.0050583654167661619],\n",
       "  [0.0, 0.0064439287083377008, 0.0064439287083377008, 0.0],\n",
       "  [0.0, 0.012449774768635364, 0.012449774768635364, 0.0064439287083377008],\n",
       "  [0.0, 0.014590986094394184, 0.014590986094394184, 0.012449774768635364],\n",
       "  [0.0094621588397380326,\n",
       "   0.018701887315907224,\n",
       "   0.018701887315907224,\n",
       "   0.014590986094394184],\n",
       "  [0.0, 0.026961599614399229, 0.026961599614399229, 0.018701887315907224],\n",
       "  [0.0, 0.036739418351222818, 0.036739418351222818, 0.026961599614399229],\n",
       "  [0.0, 0.046137646828203489, 0.046137646828203489, 0.036739418351222818],\n",
       "  [0.018918973789379442,\n",
       "   0.048171725777430979,\n",
       "   0.048171725777430979,\n",
       "   0.046137646828203489],\n",
       "  [0.0, 0.052844980763707201, 0.052844980763707201, 0.048171725777430979],\n",
       "  [0.0, 0.003742196470006657, 0.003742196470006657, 0.0],\n",
       "  [0.0, 0.0062799920473068311, 0.0062799920473068311, 0.003742196470006657],\n",
       "  [0.0, 0.0093571401597452013, 0.0093571401597452013, 0.0],\n",
       "  [0.0062799920473068311,\n",
       "   0.01594278343355561,\n",
       "   0.01594278343355561,\n",
       "   0.0093571401597452013],\n",
       "  [0.0, 0.027098189870161708, 0.027098189870161708, 0.01594278343355561],\n",
       "  [0.0, 0.030678704231912414, 0.030678704231912414, 0.027098189870161708],\n",
       "  [0.0, 0.039448721658575089, 0.039448721658575089, 0.030678704231912414],\n",
       "  [0.0, 0.001691871198469277, 0.001691871198469277, 0.0],\n",
       "  [0.0, 0.0028838649468037819, 0.0028838649468037819, 0.001691871198469277],\n",
       "  [0.0, 0.0036541117374327718, 0.0036541117374327718, 0.0],\n",
       "  [0.0028838649468037819,\n",
       "   0.0057660350141195624,\n",
       "   0.0057660350141195624,\n",
       "   0.0036541117374327718],\n",
       "  [0.0, 0.0080178082363964072, 0.0080178082363964072, 0.0057660350141195624],\n",
       "  [0.0, 0.0083517918462253857, 0.0083517918462253857, 0.0080178082363964072],\n",
       "  [0.0, 0.0035932777668396471, 0.0035932777668396471, 0.0],\n",
       "  [0.0, 0.0056037335384861693, 0.0056037335384861693, 0.0035932777668396471],\n",
       "  [0.0, 0.0085671489602143179, 0.0085671489602143179, 0.0056037335384861693],\n",
       "  [0.0, 0.010337409348179508, 0.010337409348179508, 0.0085671489602143179],\n",
       "  [0.0083517918462253857,\n",
       "   0.016519886770324291,\n",
       "   0.016519886770324291,\n",
       "   0.010337409348179508],\n",
       "  [0.0, 0.027902856946519727, 0.027902856946519727, 0.016519886770324291],\n",
       "  [0.0, 0.00071679567794506965, 0.00071679567794506965, 0.0],\n",
       "  [0.0, 0.0046219534618553324, 0.0046219534618553324, 0.00071679567794506965],\n",
       "  [0.0, 0.0088438354698980228, 0.0088438354698980228, 0.0046219534618553324],\n",
       "  [0.0, 0.0, 0.0, 0.0],\n",
       "  [0.0, 0.0019799435789233247, 0.0019799435789233247, 0.0],\n",
       "  [0.0, 0.0032562708282882348, 0.0032562708282882348, 0.0019799435789233247],\n",
       "  [0.0, 0.0059476484228571328, 0.0059476484228571328, 0.0032562708282882348],\n",
       "  [0.0, 0.0033873775902194805, 0.0033873775902194805, 0.0],\n",
       "  [0.0, 0.004699193317497183, 0.004699193317497183, 0.0033873775902194805],\n",
       "  [0.0, 0.0060006780522243782, 0.0060006780522243782, 0.004699193317497183],\n",
       "  [0.0059476484228571328,\n",
       "   0.012201288298367819,\n",
       "   0.012201288298367819,\n",
       "   0.0060006780522243782],\n",
       "  [0.0088438354698980228,\n",
       "   0.014592781147364106,\n",
       "   0.014592781147364106,\n",
       "   0.012201288298367819],\n",
       "  [0.0, 0.029411835891349672, 0.029411835891349672, 0.014592781147364106],\n",
       "  [0.027902856946519727,\n",
       "   0.049283546149633865,\n",
       "   0.049283546149633865,\n",
       "   0.029411835891349672],\n",
       "  [0.039448721658575089,\n",
       "   0.099534117588846033,\n",
       "   0.099534117588846033,\n",
       "   0.049283546149633865],\n",
       "  [0.052844980763707201,\n",
       "   0.23091039815111719,\n",
       "   0.23091039815111719,\n",
       "   0.099534117588846033],\n",
       "  [0.11783221905211629,\n",
       "   0.58932395253497138,\n",
       "   0.58932395253497138,\n",
       "   0.23091039815111719]],\n",
       " 'icoord': [[15.0, 15.0, 25.0, 25.0],\n",
       "  [35.0, 35.0, 45.0, 45.0],\n",
       "  [55.0, 55.0, 65.0, 65.0],\n",
       "  [40.0, 40.0, 60.0, 60.0],\n",
       "  [20.0, 20.0, 50.0, 50.0],\n",
       "  [115.0, 115.0, 125.0, 125.0],\n",
       "  [105.0, 105.0, 120.0, 120.0],\n",
       "  [95.0, 95.0, 112.5, 112.5],\n",
       "  [85.0, 85.0, 103.75, 103.75],\n",
       "  [135.0, 135.0, 145.0, 145.0],\n",
       "  [155.0, 155.0, 165.0, 165.0],\n",
       "  [140.0, 140.0, 160.0, 160.0],\n",
       "  [94.375, 94.375, 150.0, 150.0],\n",
       "  [75.0, 75.0, 122.1875, 122.1875],\n",
       "  [35.0, 35.0, 98.59375, 98.59375],\n",
       "  [5.0, 5.0, 66.796875, 66.796875],\n",
       "  [175.0, 175.0, 185.0, 185.0],\n",
       "  [215.0, 215.0, 225.0, 225.0],\n",
       "  [205.0, 205.0, 220.0, 220.0],\n",
       "  [195.0, 195.0, 212.5, 212.5],\n",
       "  [255.0, 255.0, 265.0, 265.0],\n",
       "  [245.0, 245.0, 260.0, 260.0],\n",
       "  [235.0, 235.0, 252.5, 252.5],\n",
       "  [203.75, 203.75, 243.75, 243.75],\n",
       "  [180.0, 180.0, 223.75, 223.75],\n",
       "  [35.8984375, 35.8984375, 201.875, 201.875],\n",
       "  [295.0, 295.0, 305.0, 305.0],\n",
       "  [285.0, 285.0, 300.0, 300.0],\n",
       "  [275.0, 275.0, 292.5, 292.5],\n",
       "  [345.0, 345.0, 355.0, 355.0],\n",
       "  [335.0, 335.0, 350.0, 350.0],\n",
       "  [325.0, 325.0, 342.5, 342.5],\n",
       "  [315.0, 315.0, 333.75, 333.75],\n",
       "  [395.0, 395.0, 405.0, 405.0],\n",
       "  [385.0, 385.0, 400.0, 400.0],\n",
       "  [375.0, 375.0, 392.5, 392.5],\n",
       "  [365.0, 365.0, 383.75, 383.75],\n",
       "  [324.375, 324.375, 374.375, 374.375],\n",
       "  [415.0, 415.0, 425.0, 425.0],\n",
       "  [435.0, 435.0, 445.0, 445.0],\n",
       "  [455.0, 455.0, 465.0, 465.0],\n",
       "  [475.0, 475.0, 485.0, 485.0],\n",
       "  [460.0, 460.0, 480.0, 480.0],\n",
       "  [440.0, 440.0, 470.0, 470.0],\n",
       "  [505.0, 505.0, 515.0, 515.0],\n",
       "  [495.0, 495.0, 510.0, 510.0],\n",
       "  [455.0, 455.0, 502.5, 502.5],\n",
       "  [420.0, 420.0, 478.75, 478.75],\n",
       "  [349.375, 349.375, 449.375, 449.375],\n",
       "  [283.75, 283.75, 399.375, 399.375],\n",
       "  [118.88671875, 118.88671875, 341.5625, 341.5625],\n",
       "  [535.0, 535.0, 545.0, 545.0],\n",
       "  [595.0, 595.0, 605.0, 605.0],\n",
       "  [585.0, 585.0, 600.0, 600.0],\n",
       "  [635.0, 635.0, 645.0, 645.0],\n",
       "  [625.0, 625.0, 640.0, 640.0],\n",
       "  [615.0, 615.0, 632.5, 632.5],\n",
       "  [592.5, 592.5, 623.75, 623.75],\n",
       "  [575.0, 575.0, 608.125, 608.125],\n",
       "  [565.0, 565.0, 591.5625, 591.5625],\n",
       "  [555.0, 555.0, 578.28125, 578.28125],\n",
       "  [540.0, 540.0, 566.640625, 566.640625],\n",
       "  [525.0, 525.0, 553.3203125, 553.3203125],\n",
       "  [695.0, 695.0, 705.0, 705.0],\n",
       "  [685.0, 685.0, 700.0, 700.0],\n",
       "  [715.0, 715.0, 725.0, 725.0],\n",
       "  [692.5, 692.5, 720.0, 720.0],\n",
       "  [675.0, 675.0, 706.25, 706.25],\n",
       "  [665.0, 665.0, 690.625, 690.625],\n",
       "  [655.0, 655.0, 677.8125, 677.8125],\n",
       "  [775.0, 775.0, 785.0, 785.0],\n",
       "  [765.0, 765.0, 780.0, 780.0],\n",
       "  [795.0, 795.0, 805.0, 805.0],\n",
       "  [772.5, 772.5, 800.0, 800.0],\n",
       "  [755.0, 755.0, 786.25, 786.25],\n",
       "  [745.0, 745.0, 770.625, 770.625],\n",
       "  [845.0, 845.0, 855.0, 855.0],\n",
       "  [835.0, 835.0, 850.0, 850.0],\n",
       "  [825.0, 825.0, 842.5, 842.5],\n",
       "  [815.0, 815.0, 833.75, 833.75],\n",
       "  [757.8125, 757.8125, 824.375, 824.375],\n",
       "  [735.0, 735.0, 791.09375, 791.09375],\n",
       "  [895.0, 895.0, 905.0, 905.0],\n",
       "  [885.0, 885.0, 900.0, 900.0],\n",
       "  [875.0, 875.0, 892.5, 892.5],\n",
       "  [925.0, 925.0, 935.0, 935.0],\n",
       "  [945.0, 945.0, 955.0, 955.0],\n",
       "  [930.0, 930.0, 950.0, 950.0],\n",
       "  [915.0, 915.0, 940.0, 940.0],\n",
       "  [985.0, 985.0, 995.0, 995.0],\n",
       "  [975.0, 975.0, 990.0, 990.0],\n",
       "  [965.0, 965.0, 982.5, 982.5],\n",
       "  [927.5, 927.5, 973.75, 973.75],\n",
       "  [883.75, 883.75, 950.625, 950.625],\n",
       "  [865.0, 865.0, 917.1875, 917.1875],\n",
       "  [763.046875, 763.046875, 891.09375, 891.09375],\n",
       "  [666.40625, 666.40625, 827.0703125, 827.0703125],\n",
       "  [539.16015625, 539.16015625, 746.73828125, 746.73828125],\n",
       "  [230.224609375, 230.224609375, 642.94921875, 642.94921875]],\n",
       " 'ivl': ['38',\n",
       "  '26',\n",
       "  '40',\n",
       "  '7',\n",
       "  '39',\n",
       "  '27',\n",
       "  '82',\n",
       "  '29',\n",
       "  '37',\n",
       "  '67',\n",
       "  '57',\n",
       "  '16',\n",
       "  '52',\n",
       "  '41',\n",
       "  '47',\n",
       "  '22',\n",
       "  '50',\n",
       "  '98',\n",
       "  '99',\n",
       "  '81',\n",
       "  '20',\n",
       "  '31',\n",
       "  '78',\n",
       "  '54',\n",
       "  '61',\n",
       "  '56',\n",
       "  '75',\n",
       "  '13',\n",
       "  '10',\n",
       "  '11',\n",
       "  '14',\n",
       "  '28',\n",
       "  '43',\n",
       "  '30',\n",
       "  '32',\n",
       "  '33',\n",
       "  '3',\n",
       "  '34',\n",
       "  '66',\n",
       "  '17',\n",
       "  '18',\n",
       "  '0',\n",
       "  '2',\n",
       "  '1',\n",
       "  '6',\n",
       "  '24',\n",
       "  '35',\n",
       "  '12',\n",
       "  '15',\n",
       "  '63',\n",
       "  '36',\n",
       "  '46',\n",
       "  '92',\n",
       "  '85',\n",
       "  '94',\n",
       "  '71',\n",
       "  '88',\n",
       "  '68',\n",
       "  '48',\n",
       "  '58',\n",
       "  '96',\n",
       "  '84',\n",
       "  '91',\n",
       "  '74',\n",
       "  '80',\n",
       "  '23',\n",
       "  '60',\n",
       "  '4',\n",
       "  '45',\n",
       "  '8',\n",
       "  '9',\n",
       "  '5',\n",
       "  '25',\n",
       "  '89',\n",
       "  '90',\n",
       "  '44',\n",
       "  '55',\n",
       "  '93',\n",
       "  '95',\n",
       "  '73',\n",
       "  '87',\n",
       "  '53',\n",
       "  '77',\n",
       "  '62',\n",
       "  '69',\n",
       "  '79',\n",
       "  '51',\n",
       "  '70',\n",
       "  '65',\n",
       "  '19',\n",
       "  '64',\n",
       "  '86',\n",
       "  '42',\n",
       "  '49',\n",
       "  '59',\n",
       "  '76',\n",
       "  '83',\n",
       "  '97',\n",
       "  '21',\n",
       "  '72'],\n",
       " 'leaves': [38,\n",
       "  26,\n",
       "  40,\n",
       "  7,\n",
       "  39,\n",
       "  27,\n",
       "  82,\n",
       "  29,\n",
       "  37,\n",
       "  67,\n",
       "  57,\n",
       "  16,\n",
       "  52,\n",
       "  41,\n",
       "  47,\n",
       "  22,\n",
       "  50,\n",
       "  98,\n",
       "  99,\n",
       "  81,\n",
       "  20,\n",
       "  31,\n",
       "  78,\n",
       "  54,\n",
       "  61,\n",
       "  56,\n",
       "  75,\n",
       "  13,\n",
       "  10,\n",
       "  11,\n",
       "  14,\n",
       "  28,\n",
       "  43,\n",
       "  30,\n",
       "  32,\n",
       "  33,\n",
       "  3,\n",
       "  34,\n",
       "  66,\n",
       "  17,\n",
       "  18,\n",
       "  0,\n",
       "  2,\n",
       "  1,\n",
       "  6,\n",
       "  24,\n",
       "  35,\n",
       "  12,\n",
       "  15,\n",
       "  63,\n",
       "  36,\n",
       "  46,\n",
       "  92,\n",
       "  85,\n",
       "  94,\n",
       "  71,\n",
       "  88,\n",
       "  68,\n",
       "  48,\n",
       "  58,\n",
       "  96,\n",
       "  84,\n",
       "  91,\n",
       "  74,\n",
       "  80,\n",
       "  23,\n",
       "  60,\n",
       "  4,\n",
       "  45,\n",
       "  8,\n",
       "  9,\n",
       "  5,\n",
       "  25,\n",
       "  89,\n",
       "  90,\n",
       "  44,\n",
       "  55,\n",
       "  93,\n",
       "  95,\n",
       "  73,\n",
       "  87,\n",
       "  53,\n",
       "  77,\n",
       "  62,\n",
       "  69,\n",
       "  79,\n",
       "  51,\n",
       "  70,\n",
       "  65,\n",
       "  19,\n",
       "  64,\n",
       "  86,\n",
       "  42,\n",
       "  49,\n",
       "  59,\n",
       "  76,\n",
       "  83,\n",
       "  97,\n",
       "  21,\n",
       "  72]}"
      ]
     },
     "execution_count": 305,
     "metadata": {},
     "output_type": "execute_result"
    }
   ],
   "source": [
    "d_dct"
   ]
  },
  {
   "cell_type": "code",
   "execution_count": null,
   "metadata": {
    "collapsed": true
   },
   "outputs": [],
   "source": []
  }
 ],
 "metadata": {
  "kernelspec": {
   "display_name": "Python 3",
   "language": "python",
   "name": "python3"
  },
  "language_info": {
   "codemirror_mode": {
    "name": "ipython",
    "version": 3
   },
   "file_extension": ".py",
   "mimetype": "text/x-python",
   "name": "python",
   "nbconvert_exporter": "python",
   "pygments_lexer": "ipython3",
   "version": "3.6.2"
  }
 },
 "nbformat": 4,
 "nbformat_minor": 2
}
